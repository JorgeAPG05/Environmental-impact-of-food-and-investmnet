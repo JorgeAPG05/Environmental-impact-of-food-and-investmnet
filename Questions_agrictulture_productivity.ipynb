{
 "cells": [
  {
   "cell_type": "code",
   "execution_count": 4,
   "id": "b7a64571",
   "metadata": {},
   "outputs": [],
   "source": [
    "# DATASET\n",
    "# https://data.world/dallemang/agriculture-productivity"
   ]
  },
  {
   "cell_type": "code",
   "execution_count": 3,
   "id": "b60ec892",
   "metadata": {},
   "outputs": [],
   "source": [
    "# SUMARY \n",
    "\n",
    "#For the 70 percent of the world's poor who live in rural areas, agriculture is the main source of income and employment. \n",
    "#But depletion and degradation of land and water pose serious challenges to producing enough food and other agricultural products to sustain livelihoods here and meet the needs of urban populations. \n",
    "#Data presented here include measures of agricultural inputs, outputs, and productivity compiled by the UN's Food and Agriculture Organization."
   ]
  },
  {
   "cell_type": "code",
   "execution_count": null,
   "id": "037a30f0",
   "metadata": {},
   "outputs": [],
   "source": [
    "# Regional differences and Productivity Drivers:\n",
    "#1.What factors contribute most significantly to regional disparities in agricultural productivity? How do climate, soil quality, and technological adoption differ between high and low-productivity regions?\n"
   ]
  },
  {
   "cell_type": "code",
   "execution_count": null,
   "id": "c3ad1a96",
   "metadata": {},
   "outputs": [],
   "source": [
    "# Performance and Sustainability:\n",
    "#2. Which specific crops demonstrate the highest sustainable productivity across various regions? How do different agricultural practices influence the sustainable yield of these crops?\n"
   ]
  },
  {
   "cell_type": "code",
   "execution_count": null,
   "id": "8a0f9fb1",
   "metadata": {},
   "outputs": [],
   "source": [
    "# Impact of Technological Adoption on Productivity:\n",
    "#3. What is the correlation between the adoption of modern agricultural technologies and the observed increase in productivity? How does technology usage vary across regions and its impact on output?\n"
   ]
  },
  {
   "cell_type": "code",
   "execution_count": null,
   "id": "fcf676bc",
   "metadata": {},
   "outputs": [],
   "source": [
    "# Efficiency and Environmental Impact:\n",
    "#4. How efficiently are resources (water, fertilizers, pesticides) utilized in high-productivity agriculture? What is the environmental impact of resource-intensive farming methods?\n"
   ]
  },
  {
   "cell_type": "code",
   "execution_count": null,
   "id": "245a6d1a",
   "metadata": {},
   "outputs": [],
   "source": [
    "#4. Can predictive models accurately forecast future agricultural productivity trends under changing environmental conditions and technological advancements?"
   ]
  },
  {
   "cell_type": "code",
   "execution_count": null,
   "id": "5692cbb9",
   "metadata": {},
   "outputs": [],
   "source": []
  }
 ],
 "metadata": {
  "kernelspec": {
   "display_name": "Python 3 (ipykernel)",
   "language": "python",
   "name": "python3"
  },
  "language_info": {
   "codemirror_mode": {
    "name": "ipython",
    "version": 3
   },
   "file_extension": ".py",
   "mimetype": "text/x-python",
   "name": "python",
   "nbconvert_exporter": "python",
   "pygments_lexer": "ipython3",
   "version": "3.11.5"
  }
 },
 "nbformat": 4,
 "nbformat_minor": 5
}
